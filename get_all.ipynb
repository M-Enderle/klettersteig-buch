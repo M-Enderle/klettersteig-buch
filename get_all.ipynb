{
 "cells": [
  {
   "cell_type": "code",
   "execution_count": 4,
   "metadata": {},
   "outputs": [],
   "source": [
    "import requests\n",
    "import bs4\n",
    "import pandas\n",
    "import json\n",
    "import selenium\n",
    "from pprint import pprint\n",
    "import random\n",
    "from datetime import timedelta"
   ]
  },
  {
   "cell_type": "code",
   "execution_count": 5,
   "metadata": {},
   "outputs": [],
   "source": [
    "base_url = \"https://www.bergsteigen.com/\""
   ]
  },
  {
   "cell_type": "code",
   "execution_count": 6,
   "metadata": {},
   "outputs": [
    {
     "data": {
      "text/plain": [
       "['https://www.bergsteigen.com/touren/klettersteig/goldgrat-klettersteig-nauders/',\n",
       " 'https://www.bergsteigen.com/touren/klettersteig/klettersteig-der-24er-hochgebirgsjaeger/',\n",
       " 'https://www.bergsteigen.com/touren/klettersteig/tauernblick-klettersteig/']"
      ]
     },
     "execution_count": 6,
     "metadata": {},
     "output_type": "execute_result"
    }
   ],
   "source": [
    "with open(\"data/urls.txt\", \"r\") as f:\n",
    "    urls = f.readlines()\n",
    "\n",
    "urls = [url.strip().replace(\"\\n\", \"\") for url in urls if len(url) > 20]\n",
    "urls[0:3]"
   ]
  },
  {
   "cell_type": "code",
   "execution_count": 7,
   "metadata": {},
   "outputs": [],
   "source": [
    "klettersteige = {}\n",
    "for url in urls:\n",
    "    klettersteige[url] = {}\n",
    "    response = requests.get(url)\n",
    "    soup = bs4.BeautifulSoup(response.content, \"html.parser\")\n",
    "    klettersteige[url][\"soup\"] = soup"
   ]
  },
  {
   "cell_type": "code",
   "execution_count": 8,
   "metadata": {},
   "outputs": [
    {
     "name": "stdout",
     "output_type": "stream",
     "text": [
      "https://www.bergsteigen.com/touren/klettersteig/elfer-nordwand-klettersteig/\n"
     ]
    },
    {
     "data": {
      "text/plain": [
       "{'Kondition': '',\n",
       " 'Regionen': {'Österreich': '/region/?tx_webxbergsteigen_bergsteigen%5Baction%5D=show&tx_webxbergsteigen_bergsteigen%5Bcontroller%5D=Region&tx_webxbergsteigen_bergsteigen%5Blevel_0%5D=2&tx_webxbergsteigen_bergsteigen%5Bregion%5D=2&cHash=994ef274939f3d654331ef441aae07a1',\n",
       "  'Tirol': '/region/?tx_webxbergsteigen_bergsteigen%5Baction%5D=show&tx_webxbergsteigen_bergsteigen%5Bcontroller%5D=Region&tx_webxbergsteigen_bergsteigen%5Blevel_0%5D=2&tx_webxbergsteigen_bergsteigen%5Blevel_1%5D=11&tx_webxbergsteigen_bergsteigen%5Bregion%5D=11&cHash=565fa854c4945fdba70b1c083bee8d06'},\n",
       " 'Gebirge': {'Stubaier Alpen': '/gebirge-1/?tx_webxbergsteigen_bergsteigen%5Baction%5D=show&tx_webxbergsteigen_bergsteigen%5Bcontroller%5D=Mountain&tx_webxbergsteigen_bergsteigen%5Bmountain%5D=629&cHash=fb474db486103d2bb945fe08cbdaba55'},\n",
       " 'Berg': 'Westlicher Elferturm\\n\\xa0(2483 m)',\n",
       " 'Charakter': 'Der Elfer Nordwand Klettersteig ist einer der Ferrata-Klassiker im Stubaital. Dieser schöne, steile Klettersteig wurde 2000 vollständig saniert und in den steilen Passagen mit einem durchgehenden Stahlseil versichert. Die enge berüchtigte Kaminstelle ist erhalten geblieben, es gibt aber eine leichtere (dafür etwas ausgesetztere Umgehungsvariante, wirklich gut saniert!).',\n",
       " 'Genaue Routenbeschreibung': 'Siehe Topo. Der Steig verläuft zuerst rechts, dann nach einer Querung (VORSICHT, AKUTE STEINSCHLAGGEFAHR) links der markanten Nordwandschlucht. Im Mittelteil kommt die Schlüsselstelle C/D (Originalvariante D/E, enger Kamin; festere Bergsteiger sollten den Rucksack vorsichtshalber runternehmen, es besteht die Gefahr sonst stecken zu bleiben!). Im oberen Teil geht es wieder nach rechts über zum Teil nicht so leichtes Blockgelände (1-2) in kl. Kessel. Am Ende steigt man noch senkrecht auf der Südseite des westlichen\\xa0Elferturmes auf dessen Gipfel - ein tolles Finale!',\n",
       " 'Ausrüstung': 'Kompl. Klettersteigausrüstung, Helm (Vorsicht: Steinschlag bei der Schluchtquerung) und unbedingt Sicherungsseil für schwächere Geher und Kinder. Klettersteighandschuhe sind von Vorteil!',\n",
       " 'Ergänzung zur Schwierigkeit': 'Mittelschwerer (kurze Variante schwerer) Klettersteig, der mit C und (Variante D/E) und 1+ bewertet ist. Für Kinder NUR mit Seilsicherung zu empfehlen.',\n",
       " 'Zustieg zur Wand': 'Mit der Bahn zur Bergstation und nun auf gutem Weg bis zur Elferhütte. Dann in Richtung Elferspitze bis zur Abzweigung zum Nordwandsteig. Kurz absteigen und dann auf dem landschaftlich schönen Weg zu einem Kamm (Tafel NW-Klettersteig) und auf Steig zum Einstieg.',\n",
       " 'Höhe Einstieg': '2180 m',\n",
       " 'Abstieg': 'Vom Gipfel wieder in Kessel abklettern (ueber den Steig), nun der Markierung folgen (zuerst durch einen Durchschlupf), über div. Kletterstellen (Sicherungen B/C und 1+) zu Kamm, der die Verbindung zwischen Elfertuerme und Elferspitze darstellt. Nun auf markiertem Weg in nördlicher Richtung zur Elferhütte zurück.',\n",
       " 'Stützpunkt': {'Elferhütte': '/service/huetten/elferhuette/'},\n",
       " 'Kartenmaterial': 'Kompass: Wanderkarte Nr. 83 Stubaier AlpenAV-Karte: 31/5 Innsbruck und UmgebungÖK 147 Axams',\n",
       " 'Bemerkungen': 'Es gibt div. MTB-Routen um Neustift, bzw. kann man damit auch bis zur Bergstation hinauf fahren; bei der Bergstation befindet sich auch ein Paragleiterstartplatz. Im Bereich Elferhütte sind nette Wiesen und Wanderwege die fuer Kinder geeignet sind.',\n",
       " 'Infostand': '12.05.2022',\n",
       " 'Autor (Referenz)': {'Axel': '/users/Axel/'},\n",
       " 'Anreise / Zufahrt': 'Brennerautobahn bis zur Abfahrt Stubaital und im Stubaital bis nach Neustift. Auto bei der Talstation der Elferspitzbahn abstellen.',\n",
       " 'Talort / Höhe': 'Neustift\\n\\xa0-\\xa0993 m',\n",
       " 'Ausgangspunkt / Höhe': 'Bergstation der Panoramabahn\\n\\xa0-\\xa01800 m'}"
      ]
     },
     "execution_count": 8,
     "metadata": {},
     "output_type": "execute_result"
    }
   ],
   "source": [
    "def p():\n",
    "    key = random.choice(list(klettersteige.keys()))\n",
    "    print(key)\n",
    "    pprint({k: v for k, v in klettersteige[key].items() if k != \"soup\"})\n",
    "\n",
    "def parse_first_non_nan(string_to_parse):\n",
    "    string_to_parse = string_to_parse.replace(\"\\\\n\", \"\\n\")\n",
    "    parsed_data = string_to_parse.split(\"\\n\")\n",
    "\n",
    "    for item in parsed_data:\n",
    "        if item.strip() != \"\":\n",
    "            return item.strip()\n",
    "\n",
    "    return None\n",
    "\n",
    "def parse_timedelta_string(timedelta_string):\n",
    "    parts = timedelta_string.split()\n",
    "    hours, minutes = map(int, parts[0].split(\":\"))\n",
    "    delta = timedelta(hours=hours, minutes=minutes)\n",
    "    return delta\n",
    "\n",
    "def parse_times_and_lengths(soup):\n",
    "    div = klettersteige[url][\"soup\"].find(\"div\", {\"data-tip\": \"Steighöhe / Gesamthöhe\"})\n",
    "    icon_info_value = div.find('span', class_='iconInfoValue').get_text(separator=\" \").strip()\n",
    "    info_parts = icon_info_value.split('\\n')\n",
    "    info_parts = [info.strip().replace('\\n', ' ').strip().split()[0] for info in info_parts if len(info.strip()) > 3]\n",
    "\n",
    "    if len(info_parts) == 4:\n",
    "        kletterlänge, gesamthöhe, kletterzeit, gesamtzeit = info_parts\n",
    "    else:\n",
    "        kletterlänge, kletterzeit, gesamtzeit = info_parts\n",
    "        gesamthöhe = None\n",
    "\n",
    "    return kletterlänge, gesamthöhe, parse_timedelta_string(kletterzeit), parse_timedelta_string(gesamtzeit)\n",
    "\n",
    "\n",
    "def parse_activity_info(soup):\n",
    "    activity_info = {}\n",
    "    div = klettersteige[url][\"soup\"].find(\"div\", {\"class\": \"scalaInfoContainer\"})\n",
    "    scala_items = soup.find_all('div', class_='scalaItem')\n",
    "    \n",
    "    for item in scala_items:\n",
    "        label = item.find('div', class_='itemLabel').text.strip()\n",
    "        if \"Beste Jahreszeit\" not in label:\n",
    "            # Assume the rating is indicated by the size-X class\n",
    "            value = item.find('div', class_='itemValue').div['class'][0].split('-')[-1]\n",
    "        else:\n",
    "            # Extract best months for activity\n",
    "            months = item.find_all('div', class_='seasonYear')\n",
    "            best_months = [month.text.strip() for month in months if 'bgGreen' in month['class']]\n",
    "            value = ', '.join(best_months)\n",
    "        \n",
    "        activity_info[label] = value\n",
    "    \n",
    "    return activity_info\n",
    "\n",
    "def get_topo_url(soup):\n",
    "    div = soup.find(\"div\", {\"class\": \"topo\"})\n",
    "    a = div.find('a')\n",
    "    return base_url + a['href']\n",
    "\n",
    "def get_description(soup):\n",
    "    item_wraps = soup.find_all('div', class_='itemWrap')\n",
    "    \n",
    "    # Create a dictionary to store the extracted details\n",
    "    details = {}\n",
    "    \n",
    "    # Loop through each 'itemWrap' to extract information\n",
    "    for item in item_wraps:\n",
    "        try:\n",
    "            label = item.find('div', class_='itemLabel').text.strip().rstrip(':')\n",
    "            value_container = item.find('div', class_='itemValue')\n",
    "            \n",
    "            # Check if value contains links\n",
    "            if value_container.find('a'):\n",
    "                # Extract all links with their text\n",
    "                links = value_container.find_all('a')\n",
    "                value = {link.text.strip(): link['href'] for link in links}\n",
    "            else:\n",
    "                # Get text without child tags (like <small>)\n",
    "                value = value_container.text.strip()\n",
    "            \n",
    "            # Store the label and value in the dictionary\n",
    "            details[label] = value\n",
    "        except AttributeError:\n",
    "            pass\n",
    "    \n",
    "    return details\n",
    "\n",
    "print(url)\n",
    "get_description(klettersteige[url][\"soup\"])"
   ]
  },
  {
   "cell_type": "code",
   "execution_count": 9,
   "metadata": {},
   "outputs": [
    {
     "name": "stdout",
     "output_type": "stream",
     "text": [
      "\n",
      "https://www.bergsteigen.com/touren/klettersteig/rotschitza-klamm-klettersteig/\n",
      "{'Beste Jahreszeit:': 'Mai, Jun, Jul, Aug, Sep, Okt',\n",
      " 'Erfahrung:': '3',\n",
      " 'Kondition:': '1',\n",
      " 'Kraft:': '2',\n",
      " 'Landschaft:': '4',\n",
      " 'abstieg': datetime.timedelta(seconds=1800),\n",
      " 'ausgangspunkt_höhe': '919',\n",
      " 'gesamthöhe': '350',\n",
      " 'gesamtzeit': datetime.timedelta(seconds=5400),\n",
      " 'gpx': 'https://www.bergsteigen.com//fileadmin/userdaten/import/tracks/gpx/rotschitza_klamm_klettersteig_track.gpx',\n",
      " 'höhe_einstieg': None,\n",
      " 'img0': '',\n",
      " 'img1': '',\n",
      " 'img2': '',\n",
      " 'info': None,\n",
      " 'kletterlänge': '100',\n",
      " 'kletterzeit': datetime.timedelta(seconds=1800),\n",
      " 'region': 'Kärnten',\n",
      " 'schwierigkeit': 'C',\n",
      " 'titel': 'Rotschitza Klamm Klettersteig',\n",
      " 'topo_url': 'https://www.bergsteigen.com//fileadmin/userdaten/tour/topo/9398/rotschitza-klamm-klettersteig-topo.png',\n",
      " 'zustieg': datetime.timedelta(seconds=1800)}\n"
     ]
    }
   ],
   "source": [
    "for url in klettersteige.keys():\n",
    "    try:\n",
    "        klettersteige[url][\"titel\"] = klettersteige[url][\"soup\"].find(\"h1\").text\n",
    "        klettersteige[url][\"schwierigkeit\"] = parse_first_non_nan(klettersteige[url][\"soup\"].find(\"div\", {\"data-tip\": \"Schwierigkeit\"}).find(\"span\", {\"class\": \"iconInfoValue\"}).text)\n",
    "        klettersteige[url][\"zustieg\"] = parse_timedelta_string(klettersteige[url][\"soup\"].find(\"div\", {\"data-tip\": \"Zustiegszeit\"}).find(\"span\", {\"class\": \"iconInfoValue\"}).text)\n",
    "        klettersteige[url][\"abstieg\"] = parse_timedelta_string(klettersteige[url][\"soup\"].find(\"div\", {\"data-tip\": \"Abstiegzeit\"}).find(\"span\", {\"class\": \"iconInfoValue\"}).text)\n",
    "        klettersteige[url][\"kletterlänge\"], klettersteige[url][\"gesamthöhe\"], klettersteige[url][\"kletterzeit\"], klettersteige[url][\"gesamtzeit\"] = parse_times_and_lengths(klettersteige[url][\"soup\"])\n",
    "        klettersteige[url][\"topo_url\"] = get_topo_url(klettersteige[url][\"soup\"])\n",
    "        klettersteige[url][\"gpx\"] = base_url + klettersteige[url][\"soup\"].find(\"a\", {\"data-tip\": \"Download Track / GPX\"}).get(\"href\")\n",
    "\n",
    "        for key, value in parse_activity_info(klettersteige[url][\"soup\"]).items():\n",
    "            klettersteige[url][key] = value\n",
    "\n",
    "        desc = get_description(klettersteige[url][\"soup\"])\n",
    "        klettersteige[url][\"höhe_einstieg\"] = desc.get(\"Höhe Einstieg\").split()[0] if desc.get(\"Höhe Einstieg\") else None\n",
    "        klettersteige[url][\"info\"] = desc.get(\"Infostand\") if desc.get(\"Infostand\") else None\n",
    "        klettersteige[url][\"region\"] = list(desc.get(\"Regionen\").keys())[-1] if desc.get(\"Regionen\") else None\n",
    "        klettersteige[url][\"ausgangspunkt_höhe\"] = desc.get(\"Ausgangspunkt / Höhe\").replace(\"\\xa0\", \" \").split()[-2] if desc.get(\"Ausgangspunkt / Höhe\") else None\n",
    "        klettersteige[url][\"img0\"] = \"\"\n",
    "        klettersteige[url][\"img1\"] = \"\"\n",
    "        klettersteige[url][\"img2\"] = \"\"\n",
    "        \n",
    "    except Exception as e:\n",
    "        print(f\"Error for {url}: {e}\")\n",
    "        \n",
    "print()     \n",
    "p()"
   ]
  },
  {
   "cell_type": "code",
   "execution_count": 10,
   "metadata": {},
   "outputs": [],
   "source": [
    "# save to json but remove the soup object\n",
    "klettersteige_copy = klettersteige.copy()\n",
    "for key in klettersteige_copy.keys():\n",
    "    klettersteige_copy[key].pop(\"soup\") if \"soup\" in klettersteige_copy[key] else None\n",
    "\n",
    "with open(\"data/klettersteige.json\", \"w\", encoding=\"utf-8\") as f:\n",
    "    json.dump(klettersteige_copy, f, indent=4, sort_keys=True, default=str, ensure_ascii=False)"
   ]
  }
 ],
 "metadata": {
  "kernelspec": {
   "display_name": ".venv",
   "language": "python",
   "name": "python3"
  },
  "language_info": {
   "codemirror_mode": {
    "name": "ipython",
    "version": 3
   },
   "file_extension": ".py",
   "mimetype": "text/x-python",
   "name": "python",
   "nbconvert_exporter": "python",
   "pygments_lexer": "ipython3",
   "version": "3.10.12"
  }
 },
 "nbformat": 4,
 "nbformat_minor": 2
}
